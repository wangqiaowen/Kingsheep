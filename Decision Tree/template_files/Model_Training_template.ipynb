{
 "cells": [
  {
   "cell_type": "code",
   "execution_count": 2,
   "metadata": {},
   "outputs": [],
   "source": [
    "#import whatever you need here\n",
    "import pandas as pd\n",
    "import sklearn\n",
    "import ast\n",
    "import math\n",
    "import pickle\n",
    "import os\n",
    "import glob\n",
    "from numpy import * \n",
    "from sklearn.naive_bayes import GaussianNB\n",
    "from sklearn.feature_selection import SelectKBest\n",
    "from scipy.stats import pearsonr\n",
    "from sklearn.metrics import mean_absolute_error\n",
    "from sklearn import tree\n",
    "from sklearn.model_selection import train_test_split\n",
    "from sklearn.naive_bayes import GaussianNB, MultinomialNB, BernoulliNB,ComplementNB"
   ]
  },
  {
   "cell_type": "markdown",
   "metadata": {},
   "source": [
    "# Load data"
   ]
  },
  {
   "cell_type": "code",
   "execution_count": null,
   "metadata": {
    "scrolled": true
   },
   "outputs": [],
   "source": [
    "#load the training data here, and process however you like\n",
    "\n",
    "path = \"/Users/wangqiaowen/Downloads/PAI2020_assignment2/example_player/training_data\"                    \n",
    "all_files = glob.glob(os.path.join(path, \"*.csv\"))     \n",
    "\n",
    "training_data = []\n",
    "\n",
    "#load the data into a pandas frames\n",
    "for file in all_files:\n",
    "    game_data = pd.read_csv(file,index_col=False)\n",
    "    reason = game_data.iloc[-1][6]\n",
    "    \n",
    "    #if the reason is found, add it to each line to fill out the blanks\n",
    "    if type(reason) is str:\n",
    "        for index,row in game_data.iterrows():\n",
    "            game_data.loc[index,'reason'] = reason\n",
    "\n",
    "    #else there was no reason, implying the game reached the number of iterations\n",
    "    else:\n",
    "        for index,row in game_data.iterrows():\n",
    "            game_data.loc[index,'reason'] = 'max_iterations'    \n",
    "    \n",
    "    training_data.append(game_data)"
   ]
  },
  {
   "cell_type": "markdown",
   "metadata": {},
   "source": [
    "# Feature selection and Instance selection "
   ]
  },
  {
   "cell_type": "markdown",
   "metadata": {},
   "source": [
    "## Sheep"
   ]
  },
  {
   "cell_type": "markdown",
   "metadata": {},
   "source": [
    "\n",
    "- feature 1:determine if wolf within two steps up\n",
    "- feature 2:determine if wolf within two steps down\n",
    "- feature 3:determine if wolf within two steps left\n",
    "- feature 4:determine if wolf within two steps right\n",
    "- feature 5:determine if closest food within two steps up\n",
    "- feature 6:determine if closest food is above the sheep\n",
    "- feature 7:determine if closest food is right of the sheep\n",
    "- feature 8:determine if closest food is left of the sheep\n",
    "- feature 9:manhattan distance between sheep and wolf\n",
    "\n",
    "The data I needed were the positions of food, the positions of wolves and sheep"
   ]
  },
  {
   "cell_type": "code",
   "execution_count": null,
   "metadata": {
    "scrolled": true
   },
   "outputs": [],
   "source": [
    "\n",
    "X_sheep = []\n",
    "Y_sheep = []\n",
    "number_moves = 0\n",
    "\n",
    "count = 0\n",
    "for game in training_data:\n",
    "    \n",
    "    #we want to learn from the winning player, which is the player with the highest score:\n",
    "    if game.iloc[-1][4] < game.iloc[-1][5]:  #player 2 wins\n",
    "        sheep = 's'\n",
    "        wolf = 'W'\n",
    "        op_wolf = 'w'\n",
    "        op_sheep = 'S'\n",
    "        \n",
    "    \n",
    "    elif game.iloc[-1][4] > game.iloc[-1][5]:  #player 1 wins\n",
    "        sheep = 'S'\n",
    "        wolf = 'w'\n",
    "        op_wolf = 'W'\n",
    "        op_sheep = 's'\n",
    "    else:\n",
    "        continue\n",
    "\n",
    "    rhubarb = 'r'\n",
    "    grass = 'g'\n",
    "    fence = '#'\n",
    "\n",
    "    #for each game state in our training data\n",
    "    for index,row in game.iterrows():\n",
    "        \n",
    "         #we don't want games that ended because of an error or because the sheep commited suicide\n",
    "        if row['reason'] not in ('sheep1 eaten','sheep2 eaten','max_iterations'):\n",
    "            continue\n",
    "\n",
    "        #we want to only learn from sheep\n",
    "        if row['turn_made_by'] == 'player1 wolf' or row['turn_made_by'] == 'player2 wolf':\n",
    "            continue\n",
    "        \n",
    "        number_moves += 1\n",
    "        \n",
    "        #this is the move that we are learning from this game state\n",
    "        move = row['move_made']\n",
    "\n",
    "        #create empty feature array for this game state\n",
    "        game_features = []\n",
    "\n",
    "        #turn the field from before the move from a string back to a list\n",
    "        field= ast.literal_eval(row['field_before'])\n",
    "        \n",
    "        #get positions of sheep, wolf and food items\n",
    "        food = []\n",
    "        obstacles = []\n",
    "        y=0\n",
    "        for field_row in field:\n",
    "            x = 0\n",
    "            for item in field_row:\n",
    "                if item == sheep:\n",
    "                    sheep_position = (x,y)\n",
    "                elif item == wolf:\n",
    "                    wolf_position = (x,y)\n",
    "                elif item == rhubarb or item == grass:\n",
    "                    food.append((x,y))\n",
    "                elif item == fence:\n",
    "                    obstacles.append((x,y))\n",
    "                elif item == op_wolf:\n",
    "                    op_wolf_position = (x,y)\n",
    "                elif item == op_sheep:\n",
    "                    op_sheep_position = (x,y)\n",
    "                x += 1\n",
    "            y+=1\n",
    "        \n",
    "        #feature 1: determine if wolf within two steps up\n",
    "        if sheep_position[1] - wolf_position[1] <= 2 and sheep_position[1] - wolf_position[1] > 0:\n",
    "            s_feature1 = 1\n",
    "        else:\n",
    "            s_feature1 = 0\n",
    "        game_features.append(s_feature1)\n",
    "\n",
    "        #feature 2: determine if wolf within two steps down\n",
    "        if sheep_position[1] - wolf_position[1] >= -2 and sheep_position[1] - wolf_position[1] < 0:\n",
    "            s_feature2 = 1\n",
    "        else:\n",
    "            s_feature2 = 0\n",
    "        game_features.append(s_feature2)\n",
    "\n",
    "        #feature 3: determine if wolf within two steps left\n",
    "        if sheep_position[0] - wolf_position[0] <= 2 and sheep_position[0] - wolf_position[0] > 0:\n",
    "            s_feature3 = 1\n",
    "        else:\n",
    "            s_feature3 = 0\n",
    "        game_features.append(s_feature3)\n",
    "\n",
    "        #feature 4: determine if wolf within two steps right\n",
    "        if sheep_position[0] - wolf_position[0] >= -2 and sheep_position[0] - wolf_position[0] < 0:\n",
    "            s_feature4 = 1\n",
    "        else:\n",
    "            s_feature4 = 0\n",
    "        game_features.append(s_feature4)\n",
    "        \n",
    "        s_feature5 = 0\n",
    "        s_feature6 = 0\n",
    "        s_feature7 = 0\n",
    "        s_feature8 = 0\n",
    "\n",
    "        #determine closest food:\n",
    "        food_distance = 1000\n",
    "        food_goal = None\n",
    "        for food_item in food:\n",
    "            distance = abs(food_item[0] - sheep_position[0]) + abs(food_item[1] - sheep_position[1])\n",
    "            if distance < food_distance:\n",
    "                food_distance = distance\n",
    "                food_goal = food_item\n",
    "#             elif distance == food_distance and field[food_item[1]][food_item[0]] == rhubarb :\n",
    "                \n",
    "        \n",
    "        if food_goal != None:\n",
    "            #feature 5: determine if closest food is below the sheep\n",
    "            if sheep_position[1] - food_goal[1] < 0:\n",
    "                s_feature5 = 1\n",
    "\n",
    "            #feature 6: determine if closest food is above the sheep\n",
    "            if sheep_position[1] - food_goal[1] > 0:\n",
    "                s_feature6 = 1\n",
    "\n",
    "            #feature 7: determine if closest food is right of the sheep\n",
    "            if sheep_position[0] - food_goal[0] < 0:\n",
    "                s_feature7 = 1\n",
    "\n",
    "            #feature 8: determine if closest food is left of the sheep\n",
    "            if sheep_position[0] - food_goal[0] > 0:\n",
    "                s_feature8 = 1\n",
    "\n",
    "        game_features.append(s_feature5)\n",
    "        game_features.append(s_feature6)\n",
    "        game_features.append(s_feature7)\n",
    "        game_features.append(s_feature8)\n",
    "        #feature 9:manhattan distance between sheep and wolf\n",
    "        s_feature9 = abs(sheep_position[0]-wolf_position[0])+abs(sheep_position[1]-wolf_position[1])\n",
    "        \n",
    "        game_features.append(s_feature9)\n",
    "        \n",
    "        X_sheep.append(game_features)\n",
    "        Y_sheep.append(move)\n",
    "\n"
   ]
  },
  {
   "cell_type": "markdown",
   "metadata": {},
   "source": [
    "## Wolf"
   ]
  },
  {
   "cell_type": "markdown",
   "metadata": {},
   "source": [
    "\n",
    "- feature 1:determine if the sheep is above the wolf\n",
    "- feature 2:determine if the sheep is below the wolf\n",
    "- feature 3:determine if the sheep is left of the wolf\n",
    "- feature 4:determine if the sheep is right from the wolf\n",
    "- feature 5:manhattan distance between sheep and wolf\n",
    "- feature 6:manhattan distance between two wolves\n",
    "\n",
    "The data I needed were the positions of wolves and sheep\n"
   ]
  },
  {
   "cell_type": "code",
   "execution_count": null,
   "metadata": {
    "scrolled": true
   },
   "outputs": [],
   "source": [
    "\n",
    "X_wolf = []\n",
    "Y_wolf = []\n",
    "number_moves = 0\n",
    "\n",
    "count =0 \n",
    "for game in training_data:\n",
    "\n",
    "    #for each game state in our training data\n",
    "    for index,row in game.iterrows():\n",
    "        \n",
    "        #we only want games where the sheep was eaten (=the wolf was successful)\n",
    "        if row['reason'] not in ('sheep1 eaten','sheep2 eaten'):\n",
    "            continue\n",
    "        \n",
    "        #we want to only learn from wolves\n",
    "        if row['turn_made_by'] == 'player1 sheep' or row['turn_made_by'] == 'player2 sheep':\n",
    "            continue\n",
    "        \n",
    "        number_moves += 1\n",
    "        \n",
    "        \n",
    "        #we want to learn from the wolf that ate the sheep\n",
    "        if row['reason'] == 'sheep1 eaten':\n",
    "            sheep = 'S'\n",
    "            wolf = 'w'\n",
    "            op_wolf = 'W'\n",
    "            my_sheep = 's'\n",
    "        else:\n",
    "            sheep = 's'\n",
    "            wolf = 'W'\n",
    "            op_wolf = 'w'\n",
    "            my_sheep = 'S'\n",
    "            \n",
    "        rhubarb = 'r'\n",
    "        grass = 'g'\n",
    "\n",
    "        #this is the move that we are learning from this game state\n",
    "        move = row['move_made']\n",
    "\n",
    "        #create empty feature array for this game state\n",
    "        game_features = []\n",
    "\n",
    "        #turn the field from before the move from a string back to a list\n",
    "        field= ast.literal_eval(row['field_before'])\n",
    "        \n",
    "        #get positions of sheep, wolf and food items\n",
    "        y=0\n",
    "        obstacles = []\n",
    "        for field_row in field:\n",
    "            x = 0\n",
    "            for item in field_row:\n",
    "                if item == sheep:\n",
    "                    sheep_position = (x,y)\n",
    "                elif item == wolf:\n",
    "                    wolf_position = (x,y)\n",
    "                elif item == op_wolf:\n",
    "                    op_wolf_position = (x,y)\n",
    "                elif item == my_sheep:\n",
    "                    my_sheep_position = (x,y)\n",
    "                x += 1\n",
    "            y+=1\n",
    "            \n",
    "        #feature 1: determine if the sheep is above the wolf\n",
    "        if wolf_position[1] - sheep_position[1] > 0:\n",
    "            w_feature1 = 1\n",
    "        else:\n",
    "            w_feature1 = 0\n",
    "        game_features.append(w_feature1)\n",
    "\n",
    "        #feature 2: determine if the sheep is below the wolf\n",
    "        if wolf_position[1] - sheep_position[1] < 0:\n",
    "            w_feature2 = 1\n",
    "        else:\n",
    "            w_feature2 = 0\n",
    "        game_features.append(w_feature2)\n",
    "\n",
    "        #feature 3: determine if the sheep is left of the wolf\n",
    "        if wolf_position[0] - sheep_position[0] > 0:\n",
    "            w_feature3 = 1\n",
    "        else:\n",
    "            w_feature3 = 0\n",
    "        game_features.append(w_feature3)\n",
    "\n",
    "        #feature 4: determine if the sheep is right from the wolf\n",
    "        if wolf_position[0] - sheep_position[0] < 0:\n",
    "            w_feature4 = 1\n",
    "        else:\n",
    "            w_feature4 = 0\n",
    "        game_features.append(w_feature4)\n",
    "\n",
    "        #feature 5:manhattan distance between sheep and wolf\n",
    "        s_feature5 = abs(sheep_position[0]-wolf_position[0])+abs(sheep_position[1]-wolf_position[1])\n",
    "        \n",
    "        game_features.append(s_feature5)\n",
    "        \n",
    "        #feature 6:manhattan distance between two wolves\n",
    "        s_feature6 = abs(op_wolf_position[0]-wolf_position[0])+abs(op_wolf_position[1]-wolf_position[1])\n",
    "        \n",
    "        game_features.append(s_feature6)\n",
    "        X_wolf.append(game_features)\n",
    "        Y_wolf.append(move)\n",
    "        "
   ]
  },
  {
   "cell_type": "markdown",
   "metadata": {},
   "source": [
    "# Train sheep"
   ]
  },
  {
   "cell_type": "code",
   "execution_count": 22,
   "metadata": {},
   "outputs": [],
   "source": [
    "x_train,x_test,y_train,y_test = train_test_split(X_sheep,Y_sheep,test_size=0.3,random_state=0)"
   ]
  },
  {
   "cell_type": "code",
   "execution_count": 8,
   "metadata": {},
   "outputs": [
    {
     "data": {
      "text/plain": [
       "GaussianNB(priors=None, var_smoothing=1e-09)"
      ]
     },
     "execution_count": 8,
     "metadata": {},
     "output_type": "execute_result"
    }
   ],
   "source": [
    "sheep_GNB = GaussianNB()\n",
    "sheep_GNB.fit(x_train,y_train)"
   ]
  },
  {
   "cell_type": "markdown",
   "metadata": {},
   "source": [
    "# Train wolf"
   ]
  },
  {
   "cell_type": "code",
   "execution_count": null,
   "metadata": {},
   "outputs": [],
   "source": [
    "x_train,x_test,y_train,y_test = train_test_split(X_wolf,Y_wolf,test_size=0.3,random_state=0)"
   ]
  },
  {
   "cell_type": "code",
   "execution_count": 23,
   "metadata": {},
   "outputs": [
    {
     "data": {
      "text/plain": [
       "GaussianNB(priors=None, var_smoothing=1e-09)"
      ]
     },
     "execution_count": 23,
     "metadata": {},
     "output_type": "execute_result"
    }
   ],
   "source": [
    "wolf_GNB = GaussianNB()\n",
    "wolf_GNB.fit(x_train,y_train)"
   ]
  },
  {
   "cell_type": "markdown",
   "metadata": {},
   "source": [
    "# Save models to files"
   ]
  },
  {
   "cell_type": "markdown",
   "metadata": {},
   "source": [
    "Save your models to files here using pickle. Change the [uzhshortname] to your own UZH shortname. This name needs to match the model that you caller in your python player file."
   ]
  },
  {
   "cell_type": "code",
   "execution_count": 23,
   "metadata": {},
   "outputs": [],
   "source": [
    "sheep_filename = 'qiawan_sheep_model.sav'\n",
    "wolf_filename = 'qiawan_wolf_model.sav'\n",
    "\n",
    "pickle.dump(sheep_GNB,open(sheep_filename,'wb'))\n",
    "pickle.dump(wolf_GNB,open(wolf_filename,'wb'))"
   ]
  }
 ],
 "metadata": {
  "kernelspec": {
   "display_name": "Python 3",
   "language": "python",
   "name": "python3"
  },
  "language_info": {
   "codemirror_mode": {
    "name": "ipython",
    "version": 3
   },
   "file_extension": ".py",
   "mimetype": "text/x-python",
   "name": "python",
   "nbconvert_exporter": "python",
   "pygments_lexer": "ipython3",
   "version": "3.7.6"
  }
 },
 "nbformat": 4,
 "nbformat_minor": 2
}
